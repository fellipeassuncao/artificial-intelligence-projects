{
  "nbformat": 4,
  "nbformat_minor": 0,
  "metadata": {
    "colab": {
      "name": "[IGTI] AULA INTERATIVA 1 -  WORD CLOUD",
      "provenance": []
    },
    "kernelspec": {
      "name": "python3",
      "display_name": "Python 3"
    },
    "language_info": {
      "name": "python"
    }
  },
  "cells": [
    {
      "cell_type": "markdown",
      "source": [
        "# Construindo uma Word Cloud\n",
        "\n",
        "Word Cloud ou Tag Clouds é uma técnica de visualização de textos que são usados ​​nativamente para visualizar as tags ou palavras-chave dos sites. A seguir, relatamos algumas características:\n",
        "\n",
        "* Cada palavra nesta nuvem tem um tamanho de fonte variável e um tom de cor. Assim, essa representação ajuda a determinar palavras de destaque. \n",
        "\n",
        "* Um tamanho de fonte maior de uma palavra retrata sua proeminência mais em relação a outras palavras no cluster. \n",
        "\n",
        "* O Word Cloud pode ser construído em várias formas e tamanhos com base na visão dos criadores. \n",
        "\n",
        "* O número de palavras desempenha um papel importante ao criar uma nuvem de palavras. \n",
        "\n",
        "* Um número maior de palavras nem sempre significa uma nuvem de palavras melhor, pois ela se torna confusa e difícil de ler. \n",
        "\n",
        "* Uma Nuvem de Palavras deve sempre ser semanticamente significativa e deve representar para o que se destina.\n",
        "\n",
        "\n",
        "![Word Cloud Example](https://static.commonlounge.com/fp/600w/FxEgN5woHmXOJOLtm7oGGenV81520493685_kc)\n",
        "\n",
        "\n",
        "Embora existam diferentes maneiras pelas quais as Nuvens de Palavras podem ser criadas, o tipo mais usado é usando a  Frequência das Palavras em relação ao nosso corpus. Dessa forma, no exemplo a seguir, iremos criar uma Numem de palavras como base"
      ],
      "metadata": {
        "id": "ZlNY7r_CEKk3"
      }
    },
    {
      "cell_type": "markdown",
      "source": [
        "## Aplicações\n",
        "\n",
        "* Feedback de clientes\n",
        "\n",
        "* Discurso de candidatos\n",
        "\n",
        "* Tópicos em alta\n"
      ],
      "metadata": {
        "id": "-3WFZFp5i71P"
      }
    },
    {
      "cell_type": "markdown",
      "source": [
        "## 1. Importando as bibliotecas"
      ],
      "metadata": {
        "id": "qucSjnD5ERaK"
      }
    },
    {
      "cell_type": "code",
      "execution_count": null,
      "metadata": {
        "id": "I0OYDqcqrGTj"
      },
      "outputs": [],
      "source": [
        "import pandas as pd\n",
        "import matplotlib.pyplot as plt\n",
        "from wordcloud import WordCloud"
      ]
    },
    {
      "cell_type": "markdown",
      "source": [
        "## 2. Base de Dados\n",
        "\n",
        "Para este exemplo, estamos usando o Popular Dataset Top Games na Google Play Store  da Kaggle, disponível em https://www.kaggle.com/dhruvildave/top-play-store-games.\n",
        "\n",
        "Baixe o conjunto de dados e salve-o em seu diretório de trabalho atual para implementação de código sem complicações.\n",
        "\n",
        "Importe o conjunto de dados para uma variável de sua escolha. Neste exemplo, os dados são importados para a variável df ."
      ],
      "metadata": {
        "id": "mBkbkRLxEqWL"
      }
    },
    {
      "cell_type": "code",
      "source": [
        "df = pd.read_csv(\"/content/drive/MyDrive/PLN/android-games.csv\")\n",
        "df.head()"
      ],
      "metadata": {
        "id": "RHNPNzQryO_y"
      },
      "execution_count": null,
      "outputs": []
    },
    {
      "cell_type": "markdown",
      "source": [
        "## 3. Selecionando o texto corretamente\n",
        "Selecionar texto para criar uma nuvem de palavras é uma tarefa importante. Deve-se verificar vários fatores para a seleção do Texto, tais como:\n",
        "\n",
        "* Temos Declaração do Problema?\n",
        "* O Texto Selecionado tem significado nele?\n",
        "* Podemos concluir a Word Cloud criada?\n",
        "* Nosso Texto tem uma quantidade adequada de Texto?\n",
        "* O Word Cloud requer texto em quantidade adequada. Um grande número de palavras prejudicaria a aparência visual do Word Cloud e um número menor de palavras não faria sentido.\n",
        "\n",
        "Podemos usar o método .head() do DataFrame para verificar as Colunas e o tipo de dado presente nelas. Em nosso exemplo, tomamos a categoria da coluna como Texto.\n",
        "\n",
        "Como a categoria de colunas tem um prefixo de GAME antes de cada categoria de jogo, nossa Nuvem de Palavras acabaria criando GAME como a palavra mais frequente e a Nuvem de Palavras não teria significado em int. Assim, realizaremos a filtragem ao adicionar a  coluna de categoria ao Texto."
      ],
      "metadata": {
        "id": "7f9Zpn8DkbuF"
      }
    },
    {
      "cell_type": "markdown",
      "source": [
        "## 4. Verificar os valores nulos\n",
        "É necessário verificar os valores nulos em nosso conjunto de dados, pois ao criar o Word Cloud, ele não aceitaria texto com valores `NaN` .\n",
        "\n",
        "Como no nosso conjunto de dados não possui valores `NaN`, podemos continuar seguindo...\n",
        "\n",
        "Se em outra base de dados houver poucos valores `NaN`, é aconselhável remover essas linhas, pois em geral, não afetaria muito a nuvem de palavras."
      ],
      "metadata": {
        "id": "M7KG5jxTkWEz"
      }
    },
    {
      "cell_type": "code",
      "source": [
        "df.isna().sum()"
      ],
      "metadata": {
        "id": "IC_XSP4EEKEo"
      },
      "execution_count": null,
      "outputs": []
    },
    {
      "cell_type": "markdown",
      "source": [
        "## 5. Adicionando texto a uma variável\n",
        "\n",
        "Com base nos parâmetros da etapa 3, vamos adicionar os dados de texto a uma variável de nossa escolha, que no nosso caso é a variável `text`.\n",
        "\n",
        "Como precisamos filtrar o GAME  da categoria, dividimos o valor de cada linha e pegamos o 2º item, ou seja, o nome da  categoria da coluna da categoria."
      ],
      "metadata": {
        "id": "s1RiD5KUHqft"
      }
    },
    {
      "cell_type": "code",
      "source": [
        "text = \" \".join(cat.split()[1] for cat in df.category)"
      ],
      "metadata": {
        "id": "PTl0oV-mUU9c"
      },
      "execution_count": null,
      "outputs": []
    },
    {
      "cell_type": "markdown",
      "source": [
        "## 6. Criando a nuvem de palavras\n",
        "\n",
        "Vamos criar um da classe WordCloud com um nome de sua preferência e chamr o método `generate()`. Decidimos criar o objeto com o nome `word_cloud`.\n",
        "\n",
        "O WordCloud() aceita vários argumentos conforme a necessidade. Aqui estamos adicionando dois argumentos:\n",
        "\n",
        "* 1. `collocations = False`, que irá ignorar as palavras de collocation (ex. take a shower, pay attention) do texto.\n",
        "* 2. `backgroun_color='white'`, que irá tornar as palavras mais claras.\n",
        "\n",
        "O método `generate()` recebe um argumento do texto que criamos. No nosso caso, daremos a variável text como argumento para `generate()`"
      ],
      "metadata": {
        "id": "BTvAkHcILYDE"
      }
    },
    {
      "cell_type": "code",
      "source": [
        "word_cloud = WordCloud(collocations = False, background_color = 'white').generate(text)"
      ],
      "metadata": {
        "id": "gHocetUOUY79"
      },
      "execution_count": null,
      "outputs": []
    },
    {
      "cell_type": "markdown",
      "source": [
        "## 7. Criando a nuvem de palavras\n",
        "\n",
        "Ao utilizar o `plt.imshow` estamos recebendo dois argumentos:\n",
        "\n",
        "* `word_cloud` criado na etapa 6 e `interpolation = 'bilinear'`\n",
        "\n",
        "Ao criar a imagem com `imshow()` ocorre uma reamostragem de imagem pois o tamanho do pixel da imagem e a resolução da tela não coincidem.\n",
        "\n",
        "Controlamos essa reamostragem a partir do argumento de interpolação a fim de produzir imagens mais suaves ou nítidas.\n",
        "\n",
        "Podemos configurar a interpolação com argumentos: `gaussian`, `quadric`, `bicubic` e `bilinear`. No nosso caso, escolhemos a interpolação `bilinear`.\n",
        "\n",
        "Iremos imprimir a imagem com o eixo não aparente, pois não queremos a representação do eixo na nossa imagem.\n"
      ],
      "metadata": {
        "id": "Nt8KfR39NW3s"
      }
    },
    {
      "cell_type": "code",
      "source": [
        "plt.imshow(word_cloud, interpolation='bilinear')\n",
        "plt.axis(\"off\")\n",
        "plt.show()"
      ],
      "metadata": {
        "id": "XmyOqOJzUdAw"
      },
      "execution_count": null,
      "outputs": []
    }
  ]
}